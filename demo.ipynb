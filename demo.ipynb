{
 "cells": [
  {
   "cell_type": "code",
   "execution_count": null,
   "id": "f5b83512",
   "metadata": {},
   "outputs": [
    {
     "name": "stdout",
     "output_type": "stream",
     "text": [
      "The autoreload extension is already loaded. To reload it, use:\n",
      "  %reload_ext autoreload\n"
     ]
    }
   ],
   "source": [
    "import numpy as np\n",
    "\n",
    "import data_prep\n",
    "import inference_utils\n",
    "\n",
    "import warnings\n",
    "from tqdm import tqdm\n",
    "import itertools\n",
    "\n",
    "warnings.filterwarnings('ignore')\n",
    "\n",
    "\n",
    "%load_ext autoreload\n",
    "%autoreload 2"
   ]
  },
  {
   "cell_type": "code",
   "execution_count": 105,
   "id": "9be10d71",
   "metadata": {},
   "outputs": [],
   "source": [
    "main_dir = './DR8/' #Directory with daataset"
   ]
  },
  {
   "cell_type": "markdown",
   "id": "4645f46c",
   "metadata": {},
   "source": [
    "### Parameters for data extraction"
   ]
  },
  {
   "cell_type": "code",
   "execution_count": 106,
   "id": "de595a9c",
   "metadata": {},
   "outputs": [],
   "source": [
    "# Chose only a subset of the data \n",
    "speakers = [0,1]\n",
    "n_sentence = -1\n",
    "\n",
    "bands=6 # number of frequency bands\n",
    "target_time_steps=8 # number of interpolation points"
   ]
  },
  {
   "cell_type": "markdown",
   "id": "4ff335e7",
   "metadata": {},
   "source": [
    "### Extracting data\n",
    "\n",
    "We create the following variables from the data:\n",
    "- all_syllable_labels (list) : List containing the labels of all spoken syllables in the dataset\n",
    "- unique_syllable_labels (list) : List containing the unique syllable labels (lexical syllables) that appear in the dataset\n",
    "- num_syll, num_syll_total (int) : number of labels and sopken syllables, respectively\n",
    "- count_syll (dict) : number of occurence of each label\n",
    "- classes (list) : mapping between the index of the spoken syllables and the index of their corresponding label\n",
    "- count_classes (dict) : number of occurence of each class (same as count_syll but with the class index as key)\n",
    "- class2idx : mapping from labels to class index\n",
    "\n",
    "- all_aligned_words (list of list) : Each element corresponds to a sentence, and corresponds to its decomposition in words/groups of words\n",
    "- all_aligned_sylls (list of list of list) : Same thing, but the words are also decomposed in their corresponding sequence of (lexical) syllables\n",
    "- unique_words_sequences (list of list of list): list of the unique elements of all_aligned_sylls\n",
    "- num_words : nuimber of unique words in the dataset\n",
    "\n",
    "- all_spectrograms (list) : list of spectrograms of sopken syllables\n",
    "\n",
    "- nans, gaps (list) : list of sentences where we found nan values in the spectrograms, or \"gap syllables\", respectively\n"
   ]
  },
  {
   "cell_type": "code",
   "execution_count": 107,
   "id": "df64cb80",
   "metadata": {},
   "outputs": [
    {
     "name": "stdout",
     "output_type": "stream",
     "text": [
      "Gap found in sentence, skipping\n",
      "Gap found in sentence, skipping\n",
      "NaN found in spectrogram for FBCG1/SX352, skipping\n",
      "Gap found in sentence, skipping\n"
     ]
    }
   ],
   "source": [
    "all_syllable_labels, all_spectrograms, all_aligned_sylls, all_aligned_words, gaps, nans = data_prep.get_data(main_dir, speakers, n_sentence, bands, target_time_steps)\n",
    "\n",
    "unique_syllable_labels = list(np.unique(all_syllable_labels))\n",
    "\n",
    "num_syll = len(unique_syllable_labels)\n",
    "num_syll_total = len(all_syllable_labels)\n",
    "\n",
    "count_syll = {syll:len(np.where(np.array(all_syllable_labels)==syll)[0]) for syll in unique_syllable_labels} # number of occurence of each syllable\n",
    "\n",
    "classes = [unique_syllable_labels.index(syll) for syll in all_syllable_labels]\n",
    "count_classes = {i:len(np.where(np.array(classes)==i)[0]) for i in classes}\n",
    "\n",
    "class2idx = {s:i for i,s in enumerate(unique_syllable_labels)}\n",
    "syll2idx = {s: i for i, s in enumerate(unique_syllable_labels)}\n",
    "\n",
    "\n",
    "unique_words_sequences = []\n",
    "for seq in all_aligned_sylls:\n",
    "    if seq not in unique_words_sequences:\n",
    "        unique_words_sequences.append(seq)\n",
    "num_words = len(unique_words_sequences)"
   ]
  },
  {
   "cell_type": "markdown",
   "id": "b5b9573c",
   "metadata": {},
   "source": [
    "### Computing embeddings"
   ]
  },
  {
   "cell_type": "code",
   "execution_count": 108,
   "id": "7b4e15bb",
   "metadata": {},
   "outputs": [
    {
     "name": "stderr",
     "output_type": "stream",
     "text": [
      "100%|██████████| 245/245 [00:03<00:00, 67.34it/s]\n",
      "100%|██████████| 10000/10000 [03:12<00:00, 52.03it/s]\n"
     ]
    }
   ],
   "source": [
    "dtw_tensor = data_prep.compute_dtw(all_spectrograms) #DTW pairwise distance matrix\n",
    "\n",
    " \n",
    "embedding_dim = 8 # Dimensions of the embeddings\n",
    "num_epochs = 10000 # Number of epochs for training the embeddings\n",
    "embedding = data_prep.compute_embeddings(dtw_tensor, num_syll_total, embedding_dim, num_epochs)"
   ]
  },
  {
   "cell_type": "markdown",
   "id": "20e7a8ea",
   "metadata": {},
   "source": [
    "### Learning the posterior with SBI"
   ]
  },
  {
   "cell_type": "code",
   "execution_count": 109,
   "id": "6d565c1d",
   "metadata": {},
   "outputs": [
    {
     "data": {
      "application/vnd.jupyter.widget-view+json": {
       "model_id": "33238b6d8f6846f9b67405cc3154fdf0",
       "version_major": 2,
       "version_minor": 0
      },
      "text/plain": [
       "  0%|          | 0/10000 [00:00<?, ?it/s]"
      ]
     },
     "metadata": {},
     "output_type": "display_data"
    },
    {
     "name": "stdout",
     "output_type": "stream",
     "text": [
      " Neural network successfully converged after 81 epochs."
     ]
    }
   ],
   "source": [
    "simulator = inference_utils.build_simulator(embedding, all_spectrograms, 0.05) # Simulator for the generative model \n",
    "\n",
    "\n",
    "inference, density_estimator = inference_utils.compute_density_estimator(simulator, embedding, num_simulations=10000, estimator='mdn')\n",
    "posterior = inference.build_posterior(density_estimator)"
   ]
  },
  {
   "cell_type": "code",
   "execution_count": 110,
   "id": "5d65f12d",
   "metadata": {},
   "outputs": [
    {
     "name": "stderr",
     "output_type": "stream",
     "text": [
      "100%|██████████| 11/11 [00:00<00:00, 10917.50it/s]\n",
      "100%|██████████| 10/10 [00:00<?, ?it/s]\n",
      "100%|██████████| 2/2 [00:00<00:00, 210.84it/s]\n"
     ]
    }
   ],
   "source": [
    "path_list = data_prep.get_path_list(main_dir, speakers, n_sentence, gaps, nans)"
   ]
  },
  {
   "cell_type": "markdown",
   "id": "2a2b4e48",
   "metadata": {},
   "source": [
    "### Testing the model example sentences"
   ]
  },
  {
   "cell_type": "code",
   "execution_count": 122,
   "id": "955286c0",
   "metadata": {},
   "outputs": [
    {
     "name": "stdout",
     "output_type": "stream",
     "text": [
      "True sentence : she had your dark suit in greasy wash water all year.\n",
      "Inferred sentence : she had your don't ask me suit in greasy wash water all year.\n",
      "True sentence : don't ask me to carry an oily rag like that.\n",
      "Inferred sentence : don't ask me be carry an oily rag like that.\n"
     ]
    }
   ],
   "source": [
    "for path in path_list[:2]:\n",
    "    aligned_sylls, spectrograms = inference_utils.extract_from_path(path, bands, target_time_steps)\n",
    "\n",
    "\n",
    "    words, sylls = inference_utils.sequential_inference(aligned_sylls, spectrograms, \n",
    "                                         embedding, \n",
    "                                        posterior, \n",
    "                                        unique_words_sequences,\n",
    "                                        unique_syllable_labels,\n",
    "                                        classes, count_classes, \n",
    "                                        T1=1e0, T2=1e0,\n",
    "                                        beta=.5\n",
    "                                        )\n",
    "    \n",
    "    true_sentence = \"\"\n",
    "    inferred_sentence = \"\"\n",
    "    for i in range(len(aligned_sylls)):\n",
    "        true_sentence += all_aligned_words[all_aligned_sylls.index(aligned_sylls[i])] + \" \"\n",
    "        inferred_sentence += all_aligned_words[all_aligned_sylls.index(words[i])] + \" \"\n",
    "\n",
    "    true_sentence = true_sentence[:-1]\n",
    "    true_sentence += \".\"\n",
    "\n",
    "    inferred_sentence = inferred_sentence[:-1]\n",
    "    inferred_sentence += \".\"\n",
    "\n",
    "    print(f\"True sentence : {true_sentence}\")\n",
    "    print(f\"Inferred sentence : {inferred_sentence}\")"
   ]
  },
  {
   "cell_type": "markdown",
   "id": "65788976",
   "metadata": {},
   "source": [
    "### Comparing performance between full model and reduced model\n",
    "\n",
    "In order to remove top-down predictions, we put the value of $\\texttt{beta}$ to 0.\n",
    "\n",
    "For evaluation on noisy speech, add an argument $\\texttt{noise\\_params=[q,snr]}$ to the $\\texttt{extract\\_from\\_path}$ function, where $\\texttt{q}$ is the proportion of noisy syllables (float between 0 and 1), and $\\texttt{snr}$ is the Signal-to-Noise Ratio. \n",
    "\n",
    "Note : for low SNRs (<2.5) sometimes the posterior estimator runs forever without converging, so if you notice a sentence taking an abnormal amount of time to be processed (you can keep track with the tqdm progress bar), consider killing the cell and running it again."
   ]
  },
  {
   "cell_type": "code",
   "execution_count": 114,
   "id": "6d4325df",
   "metadata": {},
   "outputs": [
    {
     "name": "stderr",
     "output_type": "stream",
     "text": [
      "100%|██████████| 15/15 [01:37<00:00,  6.51s/it]\n"
     ]
    }
   ],
   "source": [
    "perf_words = []\n",
    "perf_sylls = []\n",
    "\n",
    "perf_words_reduced = []\n",
    "perf_sylls_reduced = []\n",
    "\n",
    "for path in tqdm(path_list):\n",
    "\n",
    "    aligned_sylls, spectrograms = inference_utils.extract_from_path(path, bands, target_time_steps)\n",
    "\n",
    "    # Uncomment next line for speech-in-noise\n",
    "    # aligned_sylls, spectrograms = inference_utils.extract_from_path(path, bands, target_time_steps, noise_params=[0.25, 5])\n",
    "\n",
    "\n",
    "    words, sylls = inference_utils.sequential_inference(aligned_sylls, spectrograms, \n",
    "                                         embedding, \n",
    "                                        posterior, \n",
    "                                        unique_words_sequences,\n",
    "                                        unique_syllable_labels,\n",
    "                                        classes, count_classes, \n",
    "                                        T1=1e0, T2=1e0,\n",
    "                                        beta=.5\n",
    "                                        )\n",
    "    \n",
    "    words_reduced, sylls_reduced = inference_utils.sequential_inference(aligned_sylls, spectrograms, \n",
    "                                         embedding, \n",
    "                                        posterior, \n",
    "                                        unique_words_sequences,\n",
    "                                        unique_syllable_labels,\n",
    "                                        classes, count_classes, \n",
    "                                        T1=1e0, T2=1e0,\n",
    "                                        beta=.0\n",
    "                                        )\n",
    "    \n",
    "    perf_words.extend([int(words[i]==aligned_sylls[i]) for i in range(len(words))])\n",
    "    perf_sylls.extend([int(sylls[i]==list(itertools.chain.from_iterable(aligned_sylls))[i]) for i in range(len(sylls))])\n",
    "\n",
    "    perf_words_reduced.extend([int(words_reduced[i]==aligned_sylls[i]) for i in range(len(words))])\n",
    "    perf_sylls_reduced.extend([int(sylls_reduced[i]==list(itertools.chain.from_iterable(aligned_sylls))[i]) for i in range(len(sylls))])\n",
    "\n"
   ]
  },
  {
   "cell_type": "code",
   "execution_count": 116,
   "id": "78b6d55c",
   "metadata": {},
   "outputs": [
    {
     "data": {
      "image/png": "[encoded data removed]",
      "text/plain": [
       "<Figure size 500x500 with 1 Axes>"
      ]
     },
     "metadata": {},
     "output_type": "display_data"
    }
   ],
   "source": [
    "inference_utils.compare_performance(perf_words, perf_words_reduced, perf_sylls, perf_sylls_reduced)"
   ]
  }
 ],
 "metadata": {
  "kernelspec": {
   "display_name": ".venv",
   "language": "python",
   "name": "python3"
  },
  "language_info": {
   "codemirror_mode": {
    "name": "ipython",
    "version": 3
   },
   "file_extension": ".py",
   "mimetype": "text/x-python",
   "name": "python",
   "nbconvert_exporter": "python",
   "pygments_lexer": "ipython3",
   "version": "3.12.8"
  }
 },
 "nbformat": 4,
 "nbformat_minor": 5
}
